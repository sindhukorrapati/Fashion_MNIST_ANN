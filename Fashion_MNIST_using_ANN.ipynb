{
  "nbformat": 4,
  "nbformat_minor": 0,
  "metadata": {
    "colab": {
      "name": "Fashion MNIST using ANN.ipynb",
      "provenance": [],
      "collapsed_sections": []
    },
    "kernelspec": {
      "name": "python3",
      "display_name": "Python 3"
    }
  },
  "cells": [
    {
      "cell_type": "code",
      "metadata": {
        "id": "ijHyzaEr2R5q"
      },
      "source": [
        "import numpy as np\r\n",
        "import tensorflow as tf\r\n",
        "from tensorflow.keras.datasets import fashion_mnist\r\n",
        "import matplotlib.pyplot as plt\r\n",
        "from tensorflow.keras.models import Sequential\r\n",
        "from tensorflow.keras.layers import Dense\r\n",
        "from keras.utils import np_utils\r\n",
        "from sklearn.model_selection import train_test_split"
      ],
      "execution_count": null,
      "outputs": []
    },
    {
      "cell_type": "code",
      "metadata": {
        "id": "RAYkyoqs3rPh",
        "colab": {
          "base_uri": "https://localhost:8080/"
        },
        "outputId": "100adc42-1e6f-485d-d346-93a729105bf7"
      },
      "source": [
        "(x_train,y_train),(x_test,y_test)= fashion_mnist.load_data()"
      ],
      "execution_count": null,
      "outputs": [
        {
          "output_type": "stream",
          "text": [
            "Downloading data from https://storage.googleapis.com/tensorflow/tf-keras-datasets/train-labels-idx1-ubyte.gz\n",
            "32768/29515 [=================================] - 0s 0us/step\n",
            "Downloading data from https://storage.googleapis.com/tensorflow/tf-keras-datasets/train-images-idx3-ubyte.gz\n",
            "26427392/26421880 [==============================] - 0s 0us/step\n",
            "Downloading data from https://storage.googleapis.com/tensorflow/tf-keras-datasets/t10k-labels-idx1-ubyte.gz\n",
            "8192/5148 [===============================================] - 0s 0us/step\n",
            "Downloading data from https://storage.googleapis.com/tensorflow/tf-keras-datasets/t10k-images-idx3-ubyte.gz\n",
            "4423680/4422102 [==============================] - 0s 0us/step\n"
          ],
          "name": "stdout"
        }
      ]
    },
    {
      "cell_type": "code",
      "metadata": {
        "colab": {
          "base_uri": "https://localhost:8080/"
        },
        "id": "ttVH8Z8e84Q5",
        "outputId": "d8875941-5ce5-4954-ff00-a533c8dacee2"
      },
      "source": [
        "x_train.shape"
      ],
      "execution_count": null,
      "outputs": [
        {
          "output_type": "execute_result",
          "data": {
            "text/plain": [
              "(60000, 28, 28)"
            ]
          },
          "metadata": {
            "tags": []
          },
          "execution_count": 24
        }
      ]
    },
    {
      "cell_type": "code",
      "metadata": {
        "colab": {
          "base_uri": "https://localhost:8080/",
          "height": 265
        },
        "id": "H_uuDMBV8-PO",
        "outputId": "d2508c9e-61a6-464f-db80-ac19e5f0c5b1"
      },
      "source": [
        "plt.imshow(x_train[10])\r\n",
        "plt.show()"
      ],
      "execution_count": null,
      "outputs": [
        {
          "output_type": "display_data",
          "data": {
            "image/png": "[encoded data removed]",
            "text/plain": [
              "<Figure size 432x288 with 1 Axes>"
            ]
          },
          "metadata": {
            "tags": [],
            "needs_background": "light"
          }
        }
      ]
    },
    {
      "cell_type": "code",
      "metadata": {
        "colab": {
          "base_uri": "https://localhost:8080/"
        },
        "id": "A_OehYmX9H5P",
        "outputId": "e958f4cc-428b-4df0-9dbc-af4622f72b2f"
      },
      "source": [
        "y_train.shape"
      ],
      "execution_count": null,
      "outputs": [
        {
          "output_type": "execute_result",
          "data": {
            "text/plain": [
              "(60000,)"
            ]
          },
          "metadata": {
            "tags": []
          },
          "execution_count": 26
        }
      ]
    },
    {
      "cell_type": "code",
      "metadata": {
        "colab": {
          "base_uri": "https://localhost:8080/"
        },
        "id": "qXWOBNKy9NAm",
        "outputId": "6557c136-1abd-426d-a155-ef0bcdf098fa"
      },
      "source": [
        "x_train[50]"
      ],
      "execution_count": null,
      "outputs": [
        {
          "output_type": "execute_result",
          "data": {
            "text/plain": [
              "array([[  0,   0,   0,   0,   0,   0,   0,   0,   1,   0,   0,   9,   6,\n",
              "          0,   0,   0,  24,   0,   0,   0,   0,   0,   0,   0,   0,   0,\n",
              "          0,   0],\n",
              "       [  0,   0,   0,   0,   0,   0,   0,   0,   0,  67, 209, 231, 248,\n",
              "        252, 250, 253, 246, 206, 132,   0,   0,   0,   0,   0,   0,   0,\n",
              "          0,   0],\n",
              "       [  0,   0,   0,   0,   0,   0,   0,   0,   1, 227, 243, 234, 234,\n",
              "        248, 246, 238, 230, 234, 250, 126,   0,   0,   0,   0,   0,   0,\n",
              "          0,   0],\n",
              "       [  0,   0,   0,   0,   0,   0,   0,   0,  57, 231, 213, 227, 234,\n",
              "        232, 231, 235, 232, 218, 218, 222,   0,   0,   0,   0,   0,   0,\n",
              "          0,   0],\n",
              "       [  0,   0,   0,   0,   0,   0,   0,   0,  90, 239, 207, 213, 236,\n",
              "        235, 232, 232, 229, 210, 215, 207,   6,   0,   0,   0,   0,   0,\n",
              "          0,   0],\n",
              "       [  0,   0,   0,   0,   0,   0,   0,   0, 211, 245, 229, 197, 220,\n",
              "        221, 221, 222, 203, 221, 235, 222,  96,   0,   0,   0,   0,   0,\n",
              "          0,   0],\n",
              "       [  0,   0,   0,   0,   0,   0,   0,   0,  55, 154, 239, 213, 217,\n",
              "        218, 214, 215, 215, 199, 235, 167,  61,   0,   0,   0,   0,   0,\n",
              "          0,   0],\n",
              "       [  0,   0,   0,   0,   0,   0,   0,   0,   0,   0,  17, 238, 220,\n",
              "        221, 215, 210, 249,  98,   0,   0,   0,   0,   0,   0,   0,   0,\n",
              "          0,   0],\n",
              "       [  0,   0,   0,   0,   0,   0,   0,   0,   2,   0,   0, 225, 220,\n",
              "        214, 211, 215, 251, 112,   0,   2,   2,   0,   0,   0,   0,   0,\n",
              "          0,   0],\n",
              "       [  0,   0,   0,   0,   0,   0,   0,   0,   1,   0,   0, 208, 218,\n",
              "        218, 224, 210, 221, 100,   0,   4,   0,   0,   0,   0,   0,   0,\n",
              "          0,   0],\n",
              "       [  0,   0,   0,   0,   0,   0,   0,   0,   1,   0,  16, 213, 244,\n",
              "        255, 218, 204, 218, 143,   0,   1,   0,   0,   0,   0,   0,   0,\n",
              "          0,   0],\n",
              "       [  0,   0,   0,   0,   0,   0,   0,   0,   2,   0,  76, 232, 235,\n",
              "        234, 218, 211, 220, 223,   0,   0,   2,   0,   0,   0,   0,   0,\n",
              "          0,   0],\n",
              "       [  0,   0,   0,   0,   0,   0,   0,   0,   0,   0, 161, 225, 218,\n",
              "        218, 220, 206, 209, 213,  32,   0,   5,   0,   0,   0,   0,   0,\n",
              "          0,   0],\n",
              "       [  0,   0,   0,   0,   0,   0,   0,   0,   0,   0, 214, 218, 222,\n",
              "        221, 218, 210, 207, 217,  89,   0,   2,   0,   0,   0,   0,   0,\n",
              "          0,   0],\n",
              "       [  0,   0,   0,   0,   0,   0,   0,   0,   0,   0, 207, 211, 225,\n",
              "        218, 218, 209, 208, 217, 165,   0,   0,   0,   0,   0,   0,   0,\n",
              "          0,   0],\n",
              "       [  0,   0,   0,   0,   0,   0,   0,   0,   0,  44, 221, 206, 225,\n",
              "        218, 218, 210, 207, 215, 203,   0,   0,   0,   0,   0,   0,   0,\n",
              "          0,   0],\n",
              "       [  0,   0,   0,   0,   0,   0,   0,   0,   0,  79, 227, 204, 224,\n",
              "        222, 216, 211, 210, 210, 196,   0,   0,   0,   0,   0,   0,   0,\n",
              "          0,   0],\n",
              "       [  0,   0,   0,   0,   0,   0,   0,   0,   0, 103, 232, 203, 225,\n",
              "        222, 216, 211, 214, 208, 204,   0,   0,   0,   0,   0,   0,   0,\n",
              "          0,   0],\n",
              "       [  0,   0,   0,   0,   0,   0,   0,   0,   0, 137, 235, 203, 225,\n",
              "        222, 217, 210, 214, 209, 211,  15,   0,   0,   0,   0,   0,   0,\n",
              "          0,   0],\n",
              "       [  0,   0,   0,   0,   0,   0,   0,   0,   0, 167, 234, 202, 223,\n",
              "        223, 220, 210, 214, 209, 215,  44,   0,   0,   0,   0,   0,   0,\n",
              "          0,   0],\n",
              "       [  0,   0,   0,   0,   0,   0,   0,   0,   0, 185, 235, 203, 224,\n",
              "        224, 220, 210, 216, 213, 221,  66,   0,   0,   0,   0,   0,   0,\n",
              "          0,   0],\n",
              "       [  0,   0,   0,   0,   0,   0,   0,   0,   0, 197, 237, 193, 225,\n",
              "        224, 218, 209, 217, 213, 223,  88,   0,   0,   0,   0,   0,   0,\n",
              "          0,   0],\n",
              "       [  0,   0,   0,   0,   0,   0,   0,   0,   0, 224, 242, 189, 224,\n",
              "        227, 223, 209, 217, 214, 227,  91,   0,   0,   0,   0,   0,   0,\n",
              "          0,   0],\n",
              "       [  0,   0,   0,   0,   0,   0,   0,   0,   0, 241, 242, 193, 232,\n",
              "        234, 222, 211, 222, 217, 229, 100,   0,   0,   0,   0,   0,   0,\n",
              "          0,   0],\n",
              "       [  0,   0,   0,   0,   0,   0,   0,   0,   0, 213, 243, 197, 224,\n",
              "        221, 221, 213, 225, 222, 230, 115,   0,   0,   0,   0,   0,   0,\n",
              "          0,   0],\n",
              "       [  0,   0,   0,   0,   0,   0,   0,   0,   0, 224, 241, 210, 221,\n",
              "        220, 220, 216, 230, 224, 232, 112,   0,   0,   0,   0,   0,   0,\n",
              "          0,   0],\n",
              "       [  0,   0,   0,   0,   0,   0,   0,   0,   0, 243, 252, 215, 238,\n",
              "        235, 229, 228, 237, 229, 244, 129,   0,   0,   0,   0,   0,   0,\n",
              "          0,   0],\n",
              "       [  0,   0,   0,   0,   0,   0,   0,   0,   0, 204, 181, 199, 186,\n",
              "        185, 208, 206, 197, 209, 214,  86,   0,   0,   0,   0,   0,   0,\n",
              "          0,   0]], dtype=uint8)"
            ]
          },
          "metadata": {
            "tags": []
          },
          "execution_count": 27
        }
      ]
    },
    {
      "cell_type": "code",
      "metadata": {
        "id": "y9ZAWgSt9TOB"
      },
      "source": [
        "x_train=x_train.reshape(x_train.shape[0],x_train.shape[1]*x_train.shape[2])\r\n",
        "x_test=x_test.reshape(x_test.shape[0],x_test.shape[1]*x_test.shape[2])"
      ],
      "execution_count": null,
      "outputs": []
    },
    {
      "cell_type": "code",
      "metadata": {
        "colab": {
          "base_uri": "https://localhost:8080/"
        },
        "id": "2d8K6qS491Qn",
        "outputId": "8b1bcda6-5906-40ac-d89a-528ee89bfde4"
      },
      "source": [
        "x_train.shape"
      ],
      "execution_count": null,
      "outputs": [
        {
          "output_type": "execute_result",
          "data": {
            "text/plain": [
              "(60000, 784)"
            ]
          },
          "metadata": {
            "tags": []
          },
          "execution_count": 29
        }
      ]
    },
    {
      "cell_type": "code",
      "metadata": {
        "colab": {
          "base_uri": "https://localhost:8080/"
        },
        "id": "lDB6hbCP956-",
        "outputId": "26411197-b2c2-4bfe-a886-4a37afee8959"
      },
      "source": [
        "y_train.shape"
      ],
      "execution_count": null,
      "outputs": [
        {
          "output_type": "execute_result",
          "data": {
            "text/plain": [
              "(60000,)"
            ]
          },
          "metadata": {
            "tags": []
          },
          "execution_count": 30
        }
      ]
    },
    {
      "cell_type": "code",
      "metadata": {
        "colab": {
          "base_uri": "https://localhost:8080/"
        },
        "id": "ygDwxpKQ99yD",
        "outputId": "14029228-4a8d-4ecd-9014-279b3fecb3c7"
      },
      "source": [
        "y_train[5]"
      ],
      "execution_count": null,
      "outputs": [
        {
          "output_type": "execute_result",
          "data": {
            "text/plain": [
              "2"
            ]
          },
          "metadata": {
            "tags": []
          },
          "execution_count": 31
        }
      ]
    },
    {
      "cell_type": "code",
      "metadata": {
        "id": "JN-bGJPn-CUO"
      },
      "source": [
        "y_train=np_utils.to_categorical(y_train,10)\r\n",
        "y_test=np_utils.to_categorical(y_test,10)"
      ],
      "execution_count": null,
      "outputs": []
    },
    {
      "cell_type": "code",
      "metadata": {
        "colab": {
          "base_uri": "https://localhost:8080/"
        },
        "id": "8M95xkpD-Vs2",
        "outputId": "d5f90e4c-ee35-458a-8d4f-8afe1198cfdf"
      },
      "source": [
        "y_train[5]"
      ],
      "execution_count": null,
      "outputs": [
        {
          "output_type": "execute_result",
          "data": {
            "text/plain": [
              "array([0., 0., 1., 0., 0., 0., 0., 0., 0., 0.], dtype=float32)"
            ]
          },
          "metadata": {
            "tags": []
          },
          "execution_count": 34
        }
      ]
    },
    {
      "cell_type": "code",
      "metadata": {
        "id": "BTgso3mb-dz3"
      },
      "source": [
        "x_train=x_train/255\r\n",
        "x_test=x_test/255\r\n"
      ],
      "execution_count": null,
      "outputs": []
    },
    {
      "cell_type": "code",
      "metadata": {
        "id": "4nwwhaq4-ny_"
      },
      "source": [
        "model=Sequential()"
      ],
      "execution_count": null,
      "outputs": []
    },
    {
      "cell_type": "code",
      "metadata": {
        "id": "n8fIm5_P-sl6"
      },
      "source": [
        "model.add(Dense(64,activation='relu',input_shape=(784,)))\r\n",
        "model.add(Dense(32,activation='relu'))\r\n",
        "model.add(Dense(16,activation='relu'))\r\n",
        "model.add(Dense(10,activation='softmax'))"
      ],
      "execution_count": null,
      "outputs": []
    },
    {
      "cell_type": "code",
      "metadata": {
        "colab": {
          "base_uri": "https://localhost:8080/"
        },
        "id": "V7WvTXjq_W_3",
        "outputId": "8dfaf898-4155-49b5-8526-94f44e5ae6d5"
      },
      "source": [
        "model.summary()"
      ],
      "execution_count": null,
      "outputs": [
        {
          "output_type": "stream",
          "text": [
            "Model: \"sequential\"\n",
            "_________________________________________________________________\n",
            "Layer (type)                 Output Shape              Param #   \n",
            "=================================================================\n",
            "dense (Dense)                (None, 64)                50240     \n",
            "_________________________________________________________________\n",
            "dense_1 (Dense)              (None, 32)                2080      \n",
            "_________________________________________________________________\n",
            "dense_2 (Dense)              (None, 16)                528       \n",
            "_________________________________________________________________\n",
            "dense_3 (Dense)              (None, 10)                170       \n",
            "=================================================================\n",
            "Total params: 53,018\n",
            "Trainable params: 53,018\n",
            "Non-trainable params: 0\n",
            "_________________________________________________________________\n"
          ],
          "name": "stdout"
        }
      ]
    },
    {
      "cell_type": "code",
      "metadata": {
        "id": "W6GFtxke_cQY"
      },
      "source": [
        "model.compile(loss='categorical_crossentropy',optimizer='adam',metrics=['accuracy'])"
      ],
      "execution_count": null,
      "outputs": []
    },
    {
      "cell_type": "code",
      "metadata": {
        "colab": {
          "base_uri": "https://localhost:8080/"
        },
        "id": "eCJe_XEL_wlg",
        "outputId": "127c70e6-7534-4f71-8246-5e83ee7bb46c"
      },
      "source": [
        "history=model.fit(x_train,y_train,batch_size=200,epochs=10)"
      ],
      "execution_count": null,
      "outputs": [
        {
          "output_type": "stream",
          "text": [
            "Epoch 1/10\n",
            "300/300 [==============================] - 2s 4ms/step - loss: 1.1066 - accuracy: 0.6357\n",
            "Epoch 2/10\n",
            "300/300 [==============================] - 1s 4ms/step - loss: 0.4388 - accuracy: 0.8451\n",
            "Epoch 3/10\n",
            "300/300 [==============================] - 1s 4ms/step - loss: 0.3981 - accuracy: 0.8578\n",
            "Epoch 4/10\n",
            "300/300 [==============================] - 1s 4ms/step - loss: 0.3711 - accuracy: 0.8661\n",
            "Epoch 5/10\n",
            "300/300 [==============================] - 1s 4ms/step - loss: 0.3456 - accuracy: 0.8756\n",
            "Epoch 6/10\n",
            "300/300 [==============================] - 1s 4ms/step - loss: 0.3289 - accuracy: 0.8807\n",
            "Epoch 7/10\n",
            "300/300 [==============================] - 1s 4ms/step - loss: 0.3221 - accuracy: 0.8826\n",
            "Epoch 8/10\n",
            "300/300 [==============================] - 1s 4ms/step - loss: 0.3041 - accuracy: 0.8884\n",
            "Epoch 9/10\n",
            "300/300 [==============================] - 1s 4ms/step - loss: 0.3006 - accuracy: 0.8905\n",
            "Epoch 10/10\n",
            "300/300 [==============================] - 1s 4ms/step - loss: 0.2935 - accuracy: 0.8938\n"
          ],
          "name": "stdout"
        }
      ]
    },
    {
      "cell_type": "code",
      "metadata": {
        "colab": {
          "base_uri": "https://localhost:8080/"
        },
        "id": "CLPEYGrzACJm",
        "outputId": "bc7627e0-2fca-4ccd-c892-f7f52dff1c0c"
      },
      "source": [
        "score=model.evaluate(x_test,y_test)"
      ],
      "execution_count": null,
      "outputs": [
        {
          "output_type": "stream",
          "text": [
            "313/313 [==============================] - 0s 1ms/step - loss: 0.3573 - accuracy: 0.8705\n"
          ],
          "name": "stdout"
        }
      ]
    },
    {
      "cell_type": "code",
      "metadata": {
        "colab": {
          "base_uri": "https://localhost:8080/"
        },
        "id": "wlGqlY4zALV_",
        "outputId": "01768c6d-46a9-49ed-fcc7-30cde3849b0e"
      },
      "source": [
        "predicted_values=model.predict(x_test[:10])\r\n",
        "print(predicted_values)"
      ],
      "execution_count": null,
      "outputs": [
        {
          "output_type": "stream",
          "text": [
            "[[2.82915676e-06 9.01368912e-06 6.15079261e-05 5.88920500e-07\n",
            "  2.56260428e-05 2.09025070e-02 4.53690882e-06 9.05782357e-02\n",
            "  1.30939845e-03 8.87105703e-01]\n",
            " [2.66622123e-06 5.14518320e-07 9.62050259e-01 5.51776748e-06\n",
            "  2.29247231e-02 1.60097261e-12 1.50155583e-02 2.36727901e-13\n",
            "  6.75154524e-07 8.74141390e-15]\n",
            " [3.34329502e-06 9.99996305e-01 1.13893215e-07 2.26391194e-07\n",
            "  1.23236452e-08 1.14623588e-13 4.69538115e-08 1.13745234e-17\n",
            "  3.16861168e-08 1.97656317e-13]\n",
            " [5.79783955e-06 9.99971509e-01 1.70729970e-06 2.00310569e-05\n",
            "  3.31676944e-07 6.80024162e-11 6.63862977e-07 1.52963698e-14\n",
            "  1.86416305e-08 1.46095965e-11]\n",
            " [1.02305971e-01 1.26021334e-07 2.54116505e-02 2.57658097e-03\n",
            "  4.94273240e-03 1.89902361e-09 8.59963596e-01 1.51917249e-07\n",
            "  4.79913177e-03 2.26713581e-09]\n",
            " [1.44856444e-04 9.99830365e-01 6.88520959e-06 5.15474358e-06\n",
            "  6.67604411e-07 7.94016519e-11 1.15821231e-05 7.10808789e-15\n",
            "  4.93587720e-07 2.63740522e-11]\n",
            " [6.89455192e-04 9.42315557e-04 7.47322431e-03 5.18224610e-04\n",
            "  9.40061331e-01 1.90218589e-06 4.83854562e-02 4.39434350e-10\n",
            "  1.92818441e-03 1.57419733e-09]\n",
            " [1.34907765e-04 2.17875566e-08 7.38564180e-03 1.02018515e-04\n",
            "  1.24007957e-02 1.49737204e-07 9.79969203e-01 1.54489616e-11\n",
            "  7.17419971e-06 1.52688720e-13]\n",
            " [7.93395084e-05 1.23064683e-05 5.07996592e-05 4.06980180e-05\n",
            "  6.55506710e-06 9.98700023e-01 4.72472166e-04 5.88049064e-04\n",
            "  3.48358699e-05 1.49076795e-05]\n",
            " [3.31106662e-06 1.14644379e-07 9.72777002e-07 1.09751772e-06\n",
            "  5.06609297e-08 1.12025673e-03 1.39669783e-05 9.98385906e-01\n",
            "  4.70830637e-05 4.27164574e-04]]\n"
          ],
          "name": "stdout"
        }
      ]
    },
    {
      "cell_type": "code",
      "metadata": {
        "colab": {
          "base_uri": "https://localhost:8080/"
        },
        "id": "q_3UtcrGAaQH",
        "outputId": "b005e07d-5723-4feb-e71f-1d242d5fd1bc"
      },
      "source": [
        "print(np.argmax(predicted_values,axis=1))"
      ],
      "execution_count": null,
      "outputs": [
        {
          "output_type": "stream",
          "text": [
            "[9 2 1 1 6 1 4 6 5 7]\n"
          ],
          "name": "stdout"
        }
      ]
    },
    {
      "cell_type": "code",
      "metadata": {
        "colab": {
          "base_uri": "https://localhost:8080/",
          "height": 267
        },
        "id": "VKxvWfPXAmg_",
        "outputId": "b38f6c34-ce1a-4a68-8875-bb4c55fafb9f"
      },
      "source": [
        "plt.plot(history.history['accuracy'])\r\n",
        "plt.show()"
      ],
      "execution_count": null,
      "outputs": [
        {
          "output_type": "display_data",
          "data": {
            "image/png": "[encoded data removed]",
            "text/plain": [
              "<Figure size 432x288 with 1 Axes>"
            ]
          },
          "metadata": {
            "tags": [],
            "needs_background": "light"
          }
        }
      ]
    },
    {
      "cell_type": "code",
      "metadata": {
        "colab": {
          "base_uri": "https://localhost:8080/",
          "height": 1000
        },
        "id": "JKHtrvBUAyDH",
        "outputId": "81bc476b-2338-456f-bfab-1c1b70308c8e"
      },
      "source": [
        "for i in range(0,10):\r\n",
        "  image=x_test[i]\r\n",
        "  image=np.array(image,dtype='float')\r\n",
        "  pixels=image.reshape((28,28))\r\n",
        "  plt.imshow(pixels)\r\n",
        "  plt.show()"
      ],
      "execution_count": null,
      "outputs": [
        {
          "output_type": "display_data",
          "data": {
            "image/png": "[encoded data removed]",
            "text/plain": [
              "<Figure size 432x288 with 1 Axes>"
            ]
          },
          "metadata": {
            "tags": [],
            "needs_background": "light"
          }
        },
        {
          "output_type": "display_data",
          "data": {
            "image/png": "[encoded data removed]",
            "text/plain": [
              "<Figure size 432x288 with 1 Axes>"
            ]
          },
          "metadata": {
            "tags": [],
            "needs_background": "light"
          }
        },
        {
          "output_type": "display_data",
          "data": {
            "image/png": "[encoded data removed]",
            "text/plain": [
              "<Figure size 432x288 with 1 Axes>"
            ]
          },
          "metadata": {
            "tags": [],
            "needs_background": "light"
          }
        },
        {
          "output_type": "display_data",
          "data": {
            "image/png": "[encoded data removed]",
            "text/plain": [
              "<Figure size 432x288 with 1 Axes>"
            ]
          },
          "metadata": {
            "tags": [],
            "needs_background": "light"
          }
        },
        {
          "output_type": "display_data",
          "data": {
            "image/png": "[encoded data removed]",
            "text/plain": [
              "<Figure size 432x288 with 1 Axes>"
            ]
          },
          "metadata": {
            "tags": [],
            "needs_background": "light"
          }
        },
        {
          "output_type": "display_data",
          "data": {
            "image/png": "[encoded data removed]",
            "text/plain": [
              "<Figure size 432x288 with 1 Axes>"
            ]
          },
          "metadata": {
            "tags": [],
            "needs_background": "light"
          }
        },
        {
          "output_type": "display_data",
          "data": {
            "image/png": "[encoded data removed]",
            "text/plain": [
              "<Figure size 432x288 with 1 Axes>"
            ]
          },
          "metadata": {
            "tags": [],
            "needs_background": "light"
          }
        },
        {
          "output_type": "display_data",
          "data": {
            "image/png": "[encoded data removed]",
            "text/plain": [
              "<Figure size 432x288 with 1 Axes>"
            ]
          },
          "metadata": {
            "tags": [],
            "needs_background": "light"
          }
        },
        {
          "output_type": "display_data",
          "data": {
            "image/png": "[encoded data removed]",
            "text/plain": [
              "<Figure size 432x288 with 1 Axes>"
            ]
          },
          "metadata": {
            "tags": [],
            "needs_background": "light"
          }
        },
        {
          "output_type": "display_data",
          "data": {
            "image/png": "[encoded data removed]",
            "text/plain": [
              "<Figure size 432x288 with 1 Axes>"
            ]
          },
          "metadata": {
            "tags": [],
            "needs_background": "light"
          }
        }
      ]
    }
  ]
}